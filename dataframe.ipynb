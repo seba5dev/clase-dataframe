{
 "cells": [
  {
   "attachments": {},
   "cell_type": "markdown",
   "metadata": {},
   "source": [
    "## Pandas es como una hoja de cálculo avanzada\n",
    "\n",
    "Se instala con `pip install pandas`\n",
    "\n",
    "Pandas es una librería de Python que nos permite trabajar con datos tabulares de forma muy sencilla. Es una librería muy potente y muy utilizada en el mundo de la ciencia de datos.\n",
    "\n",
    "Pandas nos permite leer datos de distintos formatos, como CSV, JSON, Excel, etc. También nos permite escribir datos en distintos formatos.\n",
    "\n",
    "Pandas nos permite manipular los datos de forma muy sencilla, como si estuviéramos trabajando con una hoja de cálculo.\n",
    "\n",
    "Pandas nos permite hacer análisis estadísticos de los datos.\n",
    "\n",
    "Pandas nos permite guardar los datos en distintos formatos.\n",
    "\n",
    "### Dataframes\n",
    "\n",
    "Un dataframe es una estructura de datos que se parece a una tabla de una hoja de cálculo. Cada fila de la tabla es un registro y cada columna es una variable.\n",
    "\n",
    "Se pueden crear dataframes con datos de distintos tipos: números, cadenas de texto, fechas, etc."
   ]
  },
  {
   "cell_type": "code",
   "execution_count": null,
   "metadata": {},
   "outputs": [],
   "source": [
    "import pandas as pd\n",
    "\n",
    "df = pd.read_csv('github_dataset.csv')\n",
    "\n",
    "df"
   ]
  },
  {
   "attachments": {},
   "cell_type": "markdown",
   "metadata": {},
   "source": [
    "Se puede colocar un índice a cada fila del dataframe si este existe con el parámetro index_col=\"id\"."
   ]
  },
  {
   "cell_type": "code",
   "execution_count": null,
   "metadata": {},
   "outputs": [],
   "source": [
    "df = pd.read_csv('github_dataset.csv', index_col=\"id\")"
   ]
  },
  {
   "attachments": {},
   "cell_type": "markdown",
   "metadata": {},
   "source": [
    "Pandas provee funciones para leer los datos cargados, por ejemplo, `df.head()` muestra las primeras 5 filas del dataframe."
   ]
  },
  {
   "cell_type": "code",
   "execution_count": null,
   "metadata": {},
   "outputs": [],
   "source": [
    "df.head()"
   ]
  },
  {
   "attachments": {},
   "cell_type": "markdown",
   "metadata": {},
   "source": [
    "O tambien existe `df.tail()`, que muestra las últimas 5 filas del dataframe."
   ]
  },
  {
   "cell_type": "code",
   "execution_count": null,
   "metadata": {},
   "outputs": [],
   "source": [
    "df.tail()"
   ]
  },
  {
   "attachments": {},
   "cell_type": "markdown",
   "metadata": {},
   "source": [
    "Con `df.describe()` podemos obtener estadísticas de las columnas numéricas del dataframe."
   ]
  },
  {
   "cell_type": "code",
   "execution_count": null,
   "metadata": {},
   "outputs": [],
   "source": [
    "df.describe()"
   ]
  },
  {
   "attachments": {},
   "cell_type": "markdown",
   "metadata": {},
   "source": [
    "## Limpieza de datos\n",
    "\n",
    "### Valores nulos\n",
    "\n",
    "Los valores nulos se representan con `NaN` (Not a Number). Pandas provee funciones para detectar y eliminar valores nulos.\n",
    "\n",
    "`df.dropna()` elimina las filas que contienen valores nulos."
   ]
  },
  {
   "cell_type": "code",
   "execution_count": null,
   "metadata": {},
   "outputs": [],
   "source": [
    "df_sin_nan = df.dropna()\n",
    "\n",
    "df_sin_nan"
   ]
  },
  {
   "attachments": {},
   "cell_type": "markdown",
   "metadata": {},
   "source": [
    "`df.fillna()` reemplaza los valores nulos por un valor específico."
   ]
  },
  {
   "cell_type": "code",
   "execution_count": null,
   "metadata": {},
   "outputs": [],
   "source": [
    "df_nan_0 = df.fillna(0)\n",
    "\n",
    "df_nan_0"
   ]
  },
  {
   "attachments": {},
   "cell_type": "markdown",
   "metadata": {},
   "source": [
    "Tamibén se puede reemplazar los valores nulos por valores específicos para cada columna."
   ]
  },
  {
   "cell_type": "code",
   "execution_count": null,
   "metadata": {},
   "outputs": [],
   "source": [
    "df_nan_mix = df.fillna({\"stars_count\": 0, \"language\": \"No language\"})\n",
    "\n",
    "df_nan_mix"
   ]
  },
  {
   "attachments": {},
   "cell_type": "markdown",
   "metadata": {},
   "source": [
    "### Filtrado de datos\n",
    "\n",
    "En pandas se pueden filtrar datos de diferentes formas, se puede por ejemplo con condiciones o por columnas o filas por indexación, o por etiquetas."
   ]
  },
  {
   "attachments": {},
   "cell_type": "markdown",
   "metadata": {},
   "source": [
    "#### Filtrar por columna"
   ]
  },
  {
   "cell_type": "code",
   "execution_count": null,
   "metadata": {},
   "outputs": [],
   "source": [
    "df[\"stars_count\"]"
   ]
  },
  {
   "attachments": {},
   "cell_type": "markdown",
   "metadata": {},
   "source": [
    "Si queremos filtrar dos columnas, por ejemplo, `df[[\"col1\", \"col2\"]]`."
   ]
  },
  {
   "cell_type": "code",
   "execution_count": null,
   "metadata": {},
   "outputs": [],
   "source": [
    "df[[\"stars_count\", \"language\"]] # Devuelve un dataframe"
   ]
  },
  {
   "attachments": {},
   "cell_type": "markdown",
   "metadata": {},
   "source": [
    "#### Filtrar por filas"
   ]
  },
  {
   "attachments": {},
   "cell_type": "markdown",
   "metadata": {},
   "source": [
    "Se puede de dos formas, por indice o por id.\n",
    "\n",
    "`df.loc[0]` filtra por indice.\n",
    "\n",
    "`df.iloc[0]` filtra por id.\n",
    "\n",
    "Se puede filtrar por un rango de filas, por ejemplo, `df.loc[0:2]`.\n",
    "\n",
    "Se puede filtrar filas especificas, por ejemplo, `df.loc[[0, 3, 5]]`."
   ]
  },
  {
   "cell_type": "code",
   "execution_count": null,
   "metadata": {},
   "outputs": [],
   "source": [
    "df.loc[0] # Devuelve una serie"
   ]
  },
  {
   "cell_type": "code",
   "execution_count": null,
   "metadata": {},
   "outputs": [],
   "source": [
    "df.loc[0:3]"
   ]
  },
  {
   "cell_type": "code",
   "execution_count": null,
   "metadata": {},
   "outputs": [],
   "source": [
    "df.loc[[0, 3, 5]]"
   ]
  },
  {
   "attachments": {},
   "cell_type": "markdown",
   "metadata": {},
   "source": [
    "#### Filtrar filas y columnas\n",
    "\n",
    "Se puede filtrar filas y columnas, por ejemplo, `df.iloc[0:5, [\"contributors\"]]`."
   ]
  },
  {
   "cell_type": "code",
   "execution_count": null,
   "metadata": {},
   "outputs": [],
   "source": [
    "df.loc[0:5,[\"contributors\"]]"
   ]
  },
  {
   "attachments": {},
   "cell_type": "markdown",
   "metadata": {},
   "source": [
    "#### Filtrar por condiciones\n",
    "\n",
    "Se puede filtrar por condiciones, por ejemplo, `df[df[\"stars_count\"] > 100]`."
   ]
  },
  {
   "cell_type": "code",
   "execution_count": null,
   "metadata": {},
   "outputs": [],
   "source": [
    "df[df[\"stars_count\"] > 500]"
   ]
  },
  {
   "attachments": {},
   "cell_type": "markdown",
   "metadata": {},
   "source": [
    "También se pueden crear condiciones compuestas, por ejemplo, `df[(df[\"stars_count\"] > 100) & (df[\"forks_count\"] > 100)]`."
   ]
  },
  {
   "cell_type": "code",
   "execution_count": null,
   "metadata": {},
   "outputs": [],
   "source": [
    "df[(df[\"stars_count\"] > 100) & (df[\"forks_count\"] > 100)]"
   ]
  },
  {
   "attachments": {},
   "cell_type": "markdown",
   "metadata": {},
   "source": [
    "Se puede filtrar por contenido de un texto, por ejemplo, `df[df[\"repositories\"].str.contains(\"github\")]`."
   ]
  },
  {
   "cell_type": "code",
   "execution_count": null,
   "metadata": {},
   "outputs": [],
   "source": [
    "df[df[\"repositories\"].str.contains(\"github\")]"
   ]
  },
  {
   "attachments": {},
   "cell_type": "markdown",
   "metadata": {},
   "source": [
    "### Transformación de datos\n",
    "\n",
    "A partir de las columnas ya creadas se pueden crear nuevas columnas."
   ]
  },
  {
   "cell_type": "code",
   "execution_count": null,
   "metadata": {},
   "outputs": [],
   "source": [
    "def es_popular(fila):\n",
    "    stars_count = fila[\"stars_count\"]\n",
    "    return stars_count > 500\n",
    "\n",
    "df[\"popular\"] = df.apply(es_popular, axis=1)\n",
    "\n",
    "df"
   ]
  },
  {
   "attachments": {},
   "cell_type": "markdown",
   "metadata": {},
   "source": [
    "### Agrupación de datos\n",
    "\n",
    "Se puede agrupar datos por una columna, por ejemplo, `df.groupby(\"language\")`."
   ]
  },
  {
   "cell_type": "code",
   "execution_count": null,
   "metadata": {},
   "outputs": [],
   "source": [
    "cantidad_populares = df.groupby(\"popular\").count()[\"repositories\"]\n",
    "\n",
    "cantidad_populares"
   ]
  },
  {
   "attachments": {},
   "cell_type": "markdown",
   "metadata": {},
   "source": [
    "## Graficar datos con matplotlib\n",
    "\n",
    "Se instala con `pip install matplotlib`\n",
    "\n",
    "Matplotlib es una librería de Python que nos permite hacer gráficos de los datos.\n",
    "\n",
    "Matplotlib nos permite hacer gráficos de líneas, de barras, de dispersión, de cajas, de torta, etc.\n",
    "\n",
    "Se importa con `import matplotlib.pyplot as plt`."
   ]
  },
  {
   "cell_type": "code",
   "execution_count": null,
   "metadata": {},
   "outputs": [],
   "source": [
    "import matplotlib.pyplot as plt"
   ]
  },
  {
   "cell_type": "code",
   "execution_count": null,
   "metadata": {},
   "outputs": [],
   "source": [
    "cantidad_populares.plot(kind=\"bar\")"
   ]
  },
  {
   "cell_type": "code",
   "execution_count": null,
   "metadata": {},
   "outputs": [],
   "source": [
    "df.plot(kind=\"scatter\", x=\"stars_count\", y=\"forks_count\")"
   ]
  },
  {
   "attachments": {},
   "cell_type": "markdown",
   "metadata": {},
   "source": [
    "### Exportar dataframe\n",
    "\n",
    "Se puede exportar el dataframe a un archivo CSV con `df.to_csv(\"dataframe.csv\")`.\n",
    "\n",
    "Se puede exportar el dataframe a un archivo JSON con `df.to_json(\"dataframe.json\")`.\n",
    "\n",
    "Se puede exportar el dataframe a un archivo Excel con `df.to_excel(\"dataframe.xlsx\")`.\n",
    "\n",
    "## Ejercicios\n",
    "\n",
    "### Ejercicio 1\n",
    "\n",
    "Cargar el archivo `dataframe.csv` en un dataframe.\n",
    "\n",
    "### Ejercicio 2\n",
    "\n",
    "Mostrar las primeras 10 filas del dataframe.\n",
    "\n",
    "### Ejercicio 3\n",
    "\n",
    "Mostrar las últimas 10 filas del dataframe.\n",
    "\n",
    "### Ejercicio 4\n",
    "\n",
    "Mostrar las estadísticas de las columnas numéricas del dataframe.\n",
    "\n",
    "### Ejercicio 5\n",
    "\n",
    "Mostrar las columnas del dataframe.\n",
    "\n",
    "### Ejercicio 6\n",
    "\n",
    "Mostrar las columnas del dataframe que no sean numéricas.\n",
    "\n",
    "### Ejercicio 7\n",
    "\n",
    "Mostrar las columnas del dataframe que sean numéricas.\n",
    "\n",
    "### Ejercicio 8\n",
    "\n",
    "Mostrar las columnas del dataframe que sean numéricas y que tengan más de 1000 valores.\n",
    "\n",
    "### Ejercicio 9\n",
    "\n",
    "Mostrar las columnas del dataframe que sean numéricas y que tengan menos de 1000 valores.\n",
    "\n",
    "### Ejercicio 10\n",
    "\n",
    "Mostrar las columnas del dataframe que sean numéricas y que tengan menos de 1000 valores y que tengan más de 100 valores."
   ]
  }
 ],
 "metadata": {
  "kernelspec": {
   "display_name": "Python 3",
   "language": "python",
   "name": "python3"
  },
  "language_info": {
   "codemirror_mode": {
    "name": "ipython",
    "version": 3
   },
   "file_extension": ".py",
   "mimetype": "text/x-python",
   "name": "python",
   "nbconvert_exporter": "python",
   "pygments_lexer": "ipython3",
   "version": "3.9.16"
  },
  "orig_nbformat": 4
 },
 "nbformat": 4,
 "nbformat_minor": 2
}
